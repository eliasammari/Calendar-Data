{
  "nbformat": 4,
  "nbformat_minor": 0,
  "metadata": {
    "colab": {
      "provenance": []
    },
    "kernelspec": {
      "name": "python3",
      "display_name": "Python 3"
    },
    "language_info": {
      "name": "python"
    }
  },
  "cells": [
    {
      "cell_type": "code",
      "execution_count": null,
      "metadata": {
        "id": "ySf1lHAb7pEn"
      },
      "outputs": [],
      "source": [
        "import numpy as np\n",
        "import pandas as pd\n",
        "import matplotlib.pyplot as plt\n",
        "import seaborn as sns\n",
        "import tensorflow as tf"
      ]
    },
    {
      "cell_type": "code",
      "source": [
        "data_path = \"/content/ner_dataset.csv\"\n",
        "\n",
        "data = pd.read_csv(data_path, encoding= 'unicode_escape')\n",
        "# filling the first column that determines which sentence each word belongs to.\n",
        "data.fillna(method = 'ffill', inplace = True)\n",
        "df = data.groupby('Sentence #').agg({'Word': ' '.join, 'Tag': list}).reset_index()\n",
        "df.rename(columns={'Word': 'Sentence', 'Tag': 'Tag'}, inplace=True)\n",
        "df.head()"
      ],
      "metadata": {
        "id": "EhRxs_ZC7s-0"
      },
      "execution_count": null,
      "outputs": []
    },
    {
      "cell_type": "code",
      "source": [
        "#data['Sentences'] = data['Sentence'].apply(lambda x: ' '.join(x))\n",
        "X = df['Sentence']\n",
        "Y = df['Tag']\n",
        "\n",
        "from tensorflow.keras.preprocessing.text import Tokenizer\n",
        "from tensorflow.keras.preprocessing.sequence import pad_sequences\n",
        "from sklearn.model_selection import train_test_split\n",
        "\n",
        "X_text_train, X_text_test, y_tag_train, y_tag_test = train_test_split(X,Y, test_size=0.2,random_state=42)\n",
        "\n",
        "tokenizer = Tokenizer(num_words=10000)\n",
        "tokenizer.fit_on_texts(X_text_train)"
      ],
      "metadata": {
        "id": "m1jIg0I6gzFp"
      },
      "execution_count": null,
      "outputs": []
    },
    {
      "cell_type": "code",
      "source": [
        "word2idx = tokenizer.word_index\n",
        "idx2word = tokenizer.index_word\n",
        "vocab_size = tokenizer.num_words"
      ],
      "metadata": {
        "id": "NliX5OBdoH7A"
      },
      "execution_count": null,
      "outputs": []
    },
    {
      "cell_type": "code",
      "source": [
        "X_train = tokenizer.texts_to_sequences(X_text_train)\n",
        "\n",
        "X_test = tokenizer.texts_to_sequences(X_text_test)\n",
        "\n",
        "maxlen = 100\n",
        "\n",
        "X_train = tf.keras.preprocessing.sequence.pad_sequences(X_train, maxlen=maxlen, padding='post', truncating='post', value=0)\n",
        "X_test = tf.keras.preprocessing.sequence.pad_sequences(X_test, maxlen=maxlen, padding='post', truncating='post', value=0)\n"
      ],
      "metadata": {
        "id": "HToTDolsoR7i"
      },
      "execution_count": null,
      "outputs": []
    },
    {
      "cell_type": "code",
      "source": [
        "# Récupérer les tags uniques\n",
        "unique_tags = df['Tag'].explode().unique()\n",
        "\n",
        "# Créer le dictionnaire de mapping\n",
        "word2idx_tag = {tag: idx for idx, tag in enumerate(unique_tags)}\n",
        "word2idx_tag['O'] = 0\n",
        "\n",
        "print(unique_tags)\n"
      ],
      "metadata": {
        "colab": {
          "base_uri": "https://localhost:8080/"
        },
        "id": "lXxbR8SeyXcb",
        "outputId": "3b27e503-6c68-479a-fb87-f4ad60ad72e3"
      },
      "execution_count": null,
      "outputs": [
        {
          "output_type": "stream",
          "name": "stdout",
          "text": [
            "['O' 'B-geo' 'B-gpe' 'B-tim' 'B-org' 'I-geo' 'B-per' 'I-per' 'I-org'\n",
            " 'I-tim' 'B-art' 'I-art' 'B-nat' 'I-gpe' 'I-nat' 'B-eve' 'I-eve']\n"
          ]
        }
      ]
    },
    {
      "cell_type": "code",
      "source": [
        "y_train = y_tag_train.apply(lambda tags: [word2idx_tag[tag] for tag in tags])\n",
        "print(y_train[0])\n",
        "y_test = y_tag_test.apply(lambda tags: [word2idx_tag[tag] for tag in tags])"
      ],
      "metadata": {
        "id": "Kiv38oUuoXRL",
        "colab": {
          "base_uri": "https://localhost:8080/"
        },
        "outputId": "1881a614-28b2-4542-eb29-f0ff040962a9"
      },
      "execution_count": null,
      "outputs": [
        {
          "output_type": "stream",
          "name": "stdout",
          "text": [
            "[0, 0, 0, 0, 0, 0, 1, 0, 0, 0, 0, 0, 1, 0, 0, 0, 0, 0, 2, 0, 0, 0, 0, 0]\n"
          ]
        }
      ]
    },
    {
      "cell_type": "code",
      "source": [
        "y_train = tf.keras.preprocessing.sequence.pad_sequences(y_train, maxlen=maxlen, padding='post', truncating='post')\n",
        "y_test = tf.keras.preprocessing.sequence.pad_sequences(y_test, maxlen=maxlen, padding='post', truncating='post')"
      ],
      "metadata": {
        "id": "AtUgDM7yzrSx"
      },
      "execution_count": null,
      "outputs": []
    },
    {
      "cell_type": "code",
      "source": [
        "print(X_train.shape)\n",
        "print(X_test.shape)\n",
        "print(y_train.shape)\n",
        "print(y_test.shape)"
      ],
      "metadata": {
        "colab": {
          "base_uri": "https://localhost:8080/"
        },
        "id": "rp4QW7sJzG4f",
        "outputId": "49e62edf-f368-434e-a069-029bf34c44d6"
      },
      "execution_count": null,
      "outputs": [
        {
          "output_type": "stream",
          "name": "stdout",
          "text": [
            "(38367, 100)\n",
            "(9592, 100)\n",
            "(38367, 100)\n",
            "(9592, 100)\n"
          ]
        }
      ]
    },
    {
      "cell_type": "code",
      "source": [
        "# ---------------------------------------------------------\n",
        "# modele simple AVEC TENSOR SLICE\n",
        "# --------------------------------------------------------"
      ],
      "metadata": {
        "id": "hnT3St9Y4XB9"
      },
      "execution_count": null,
      "outputs": []
    },
    {
      "cell_type": "code",
      "source": [
        "import tensorflow as tf\n",
        "\n",
        "train_dataset = tf.data.Dataset.from_tensor_slices((X_train, y_train))\n",
        "test_dataset = tf.data.Dataset.from_tensor_slices((X_test, y_test))"
      ],
      "metadata": {
        "id": "z5yGEGmW2_Pf"
      },
      "execution_count": null,
      "outputs": []
    },
    {
      "cell_type": "code",
      "source": [
        "embedding_dim = 300\n",
        "maxlen = 100\n",
        "max_words = 36000\n",
        "nb_tags = len(unique_tags)\n",
        "\n",
        "BATCH_SIZE = 132\n",
        "SHUFFLE_BUFFER_SIZE = 132\n",
        "\n",
        "train_dataset = train_dataset.shuffle(SHUFFLE_BUFFER_SIZE).batch(BATCH_SIZE)\n",
        "test_dataset = test_dataset.batch(BATCH_SIZE)\n",
        "\n",
        "model = Sequential()\n",
        "#model.add(Input(shape=(maxlen,), name='input_layer'))\n",
        "model.add(Embedding(input_dim = max_words, output_dim = nb_tags, mask_zero=True, name='embedding_layer'))\n",
        "model.add(RNN(GRUCell(32), return_sequences=True, name='gru_layer'))\n",
        "#test ajout de pooling\n",
        "#test ajout de droput\n",
        "model.add(Dense(nb_tags, name='output_layer'))\n",
        "\n",
        "model.summary()"
      ],
      "metadata": {
        "colab": {
          "base_uri": "https://localhost:8080/"
        },
        "id": "8kCERgsF4QU1",
        "outputId": "153be3ec-c3eb-4c6d-ba1a-052ff5bed902"
      },
      "execution_count": null,
      "outputs": [
        {
          "output_type": "stream",
          "name": "stdout",
          "text": [
            "Model: \"sequential_9\"\n",
            "_________________________________________________________________\n",
            " Layer (type)                Output Shape              Param #   \n",
            "=================================================================\n",
            " embedding_layer (Embedding  (None, 100, 17)           612000    \n",
            " )                                                               \n",
            "                                                                 \n",
            " gru_layer (RNN)             (None, 100, 32)           4896      \n",
            "                                                                 \n",
            " output_layer (Dense)        (None, 100, 17)           561       \n",
            "                                                                 \n",
            "=================================================================\n",
            "Total params: 617457 (2.36 MB)\n",
            "Trainable params: 617457 (2.36 MB)\n",
            "Non-trainable params: 0 (0.00 Byte)\n",
            "_________________________________________________________________\n"
          ]
        }
      ]
    },
    {
      "cell_type": "code",
      "source": [
        "model.compile(loss='sparse_categorical_crossentropy',\n",
        "              optimizer='adam',\n",
        "              metrics=['accuracy'])\n",
        "\n",
        "history = model.fit(X_train, y_train, epochs=10, validation_data = [X_test, y_test])"
      ],
      "metadata": {
        "colab": {
          "base_uri": "https://localhost:8080/"
        },
        "id": "iQ57Hjci_CwT",
        "outputId": "464f36b5-70d9-48d7-9764-a02c8c013c25"
      },
      "execution_count": null,
      "outputs": [
        {
          "output_type": "stream",
          "name": "stdout",
          "text": [
            "Epoch 1/10\n",
            "1199/1199 [==============================] - 92s 75ms/step - loss: 0.8414 - accuracy: 0.8441 - val_loss: 0.6774 - val_accuracy: 0.8499\n",
            "Epoch 2/10\n",
            "1199/1199 [==============================] - 91s 76ms/step - loss: 0.6075 - accuracy: 0.8552 - val_loss: 0.6073 - val_accuracy: 0.8596\n",
            "Epoch 3/10\n",
            "1199/1199 [==============================] - 91s 76ms/step - loss: 0.5344 - accuracy: 0.8592 - val_loss: 0.6010 - val_accuracy: 0.8602\n",
            "Epoch 4/10\n",
            "1199/1199 [==============================] - 94s 78ms/step - loss: 0.7031 - accuracy: 0.8612 - val_loss: 0.8164 - val_accuracy: 0.8604\n",
            "Epoch 5/10\n",
            "1199/1199 [==============================] - 88s 73ms/step - loss: 0.6137 - accuracy: 0.8643 - val_loss: 0.7254 - val_accuracy: 0.8575\n",
            "Epoch 6/10\n",
            "1199/1199 [==============================] - 84s 70ms/step - loss: 0.6145 - accuracy: 0.8630 - val_loss: 0.6415 - val_accuracy: 0.8616\n",
            "Epoch 7/10\n",
            "1199/1199 [==============================] - 92s 76ms/step - loss: 0.5804 - accuracy: 0.8631 - val_loss: 0.6151 - val_accuracy: 0.8597\n",
            "Epoch 8/10\n",
            "1199/1199 [==============================] - 91s 76ms/step - loss: 0.5516 - accuracy: 0.8625 - val_loss: 0.9767 - val_accuracy: 0.8480\n",
            "Epoch 9/10\n",
            "1199/1199 [==============================] - 88s 74ms/step - loss: 0.7168 - accuracy: 0.8668 - val_loss: 0.6408 - val_accuracy: 0.8660\n",
            "Epoch 10/10\n",
            "1199/1199 [==============================] - 86s 72ms/step - loss: 0.5224 - accuracy: 0.8707 - val_loss: 0.6193 - val_accuracy: 0.8668\n"
          ]
        }
      ]
    },
    {
      "cell_type": "code",
      "source": [
        "model.evaluate(y_test)\n",
        "# tres tres mauvais"
      ],
      "metadata": {
        "colab": {
          "base_uri": "https://localhost:8080/"
        },
        "id": "BGeUqAAOEK2P",
        "outputId": "95057929-ae45-4ebc-9662-34698c848bac"
      },
      "execution_count": null,
      "outputs": [
        {
          "output_type": "stream",
          "name": "stdout",
          "text": [
            "300/300 [==============================] - 5s 16ms/step - loss: 0.0000e+00 - accuracy: 0.0000e+00\n"
          ]
        },
        {
          "output_type": "execute_result",
          "data": {
            "text/plain": [
              "[0.0, 0.0]"
            ]
          },
          "metadata": {},
          "execution_count": 131
        }
      ]
    },
    {
      "cell_type": "code",
      "source": [
        "# ---------------------------------------------------------\n",
        "# modele bidirectionnel SANS TENSOR SLICE\n",
        "# --------------------------------------------------------"
      ],
      "metadata": {
        "id": "g61AUv1h4RPY"
      },
      "execution_count": null,
      "outputs": []
    },
    {
      "cell_type": "code",
      "source": [
        "from tensorflow.keras import Sequential\n",
        "from tensorflow.keras.layers import Embedding, Dense, GlobalAveragePooling1D, RNN, GRUCell, Dropout, Bidirectional, LSTMCell, LSTM, Input, Dropout\n",
        "\n",
        "\n",
        "embedding_dim = 300\n",
        "maxlen = 100\n",
        "max_words = 36000\n",
        "nb_tags = len(unique_tags)\n",
        "\n",
        "model_bi_lstm = Sequential()\n",
        "model_bi_lstm.add(Embedding(max_words, embedding_dim, input_length=maxlen))\n",
        "model_bi_lstm.add(Bidirectional(LSTM(units=100, activation='tanh', return_sequences=True)))\n",
        "model_bi_lstm.add(Bidirectional(LSTM(units=100, activation='tanh', return_sequences=True)))\n",
        "model_bi_lstm.add(Dense(nb_tags, activation='softmax'))\n",
        "\n",
        "model_bi_lstm.summary()\n"
      ],
      "metadata": {
        "colab": {
          "base_uri": "https://localhost:8080/"
        },
        "id": "6QswMvRF4Y-j",
        "outputId": "914215b1-f2a8-4e46-ec1a-69ac6940f684"
      },
      "execution_count": null,
      "outputs": [
        {
          "output_type": "stream",
          "name": "stdout",
          "text": [
            "Model: \"sequential_10\"\n",
            "_________________________________________________________________\n",
            " Layer (type)                Output Shape              Param #   \n",
            "=================================================================\n",
            " embedding_2 (Embedding)     (None, 100, 300)          10800000  \n",
            "                                                                 \n",
            " bidirectional_4 (Bidirecti  (None, 100, 200)          320800    \n",
            " onal)                                                           \n",
            "                                                                 \n",
            " bidirectional_5 (Bidirecti  (None, 100, 200)          240800    \n",
            " onal)                                                           \n",
            "                                                                 \n",
            " dense_2 (Dense)             (None, 100, 17)           3417      \n",
            "                                                                 \n",
            "=================================================================\n",
            "Total params: 11365017 (43.35 MB)\n",
            "Trainable params: 11365017 (43.35 MB)\n",
            "Non-trainable params: 0 (0.00 Byte)\n",
            "_________________________________________________________________\n"
          ]
        }
      ]
    },
    {
      "cell_type": "code",
      "source": [
        "model_bi_lstm.compile(loss='sparse_categorical_crossentropy',\n",
        "              optimizer='adam',\n",
        "              metrics=['accuracy'])\n",
        "\n",
        "history = model_bi_lstm.fit(X_train, y_train, epochs=15, validation_data = [X_test, y_test])\n",
        "\n",
        "model_bi_lstm.evaluate(y_test)"
      ],
      "metadata": {
        "colab": {
          "base_uri": "https://localhost:8080/"
        },
        "id": "5rccrG2z5_v5",
        "outputId": "b15eff89-17a9-4e54-d2fb-fba38ad1f22a"
      },
      "execution_count": null,
      "outputs": [
        {
          "output_type": "stream",
          "name": "stdout",
          "text": [
            "Epoch 1/15\n",
            "1199/1199 [==============================] - 1094s 906ms/step - loss: 0.1271 - accuracy: 0.9695 - val_loss: 0.0890 - val_accuracy: 0.9739\n",
            "Epoch 2/15\n",
            "1199/1199 [==============================] - 1102s 919ms/step - loss: 0.0769 - accuracy: 0.9760 - val_loss: 0.0779 - val_accuracy: 0.9762\n",
            "Epoch 3/15\n",
            "1199/1199 [==============================] - 1113s 928ms/step - loss: 0.0660 - accuracy: 0.9787 - val_loss: 0.0752 - val_accuracy: 0.9771\n",
            "Epoch 4/15\n",
            " 830/1199 [===================>..........] - ETA: 5:18 - loss: 0.0579 - accuracy: 0.9808"
          ]
        }
      ]
    },
    {
      "cell_type": "code",
      "source": [
        "# ---------------------------------------------------------\n",
        "# modele bidirectionnel SANS TENSOR SLICE\n",
        "# --------------------------------------------------------"
      ],
      "metadata": {
        "id": "0oPg_ygEMhWQ"
      },
      "execution_count": null,
      "outputs": []
    },
    {
      "cell_type": "code",
      "source": [
        "from tensorflow.keras import Sequential\n",
        "from tensorflow.keras.layers import Masking, Embedding, Dense, GlobalAveragePooling1D, RNN, GRUCell, Dropout, Bidirectional, LSTMCell, LSTM, Input, Dropout\n",
        "from keras.models import Model\n",
        "\n",
        "vector_size = 16\n",
        "i = Input(shape=(100,))\n",
        "x = Embedding(input_dim=max_words, output_dim=vector_size, mask_zero=True)(i)\n",
        "x = Masking()(x)  # Masking layer to handle variable length sequences\n",
        "x = Bidirectional(LSTM(32, return_sequences=True))(x)\n",
        "x = Dense(nb_tags)(x)\n",
        "\n",
        "model = Model(i, x)"
      ],
      "metadata": {
        "id": "3iRCt7YDMgSN"
      },
      "execution_count": null,
      "outputs": []
    },
    {
      "cell_type": "code",
      "source": [
        "from tensorflow.keras.callbacks import EarlyStopping, ModelCheckpoint\n",
        "from tensorflow.keras.losses import SparseCategoricalCrossentropy\n",
        "\n",
        "early_stopping = EarlyStopping(monitor='val_loss', patience=3, restore_best_weights=True)\n",
        "\n",
        "model_checkpoint = ModelCheckpoint('/content/best_model.keras', monitor='val_loss', save_best_only=True)\n",
        "\n",
        "model.compile(\n",
        "    optimizer=\"adam\",\n",
        "    loss=SparseCategoricalCrossentropy(from_logits=True),\n",
        "    metrics=['accuracy']\n",
        ")\n",
        "\n",
        "model.fit(X_train, y_train,\n",
        "          validation_data=(X_test, y_test),\n",
        "          epochs=20,\n",
        "          callbacks=[early_stopping, model_checkpoint])\n"
      ],
      "metadata": {
        "id": "jdiIc8WhNkFL"
      },
      "execution_count": null,
      "outputs": []
    },
    {
      "cell_type": "code",
      "source": [
        "# ---------------------------------------------------------\n",
        "# Predictions\n",
        "# --------------------------------------------------------"
      ],
      "metadata": {
        "id": "z2dVcijVCu9X"
      },
      "execution_count": null,
      "outputs": []
    },
    {
      "cell_type": "code",
      "source": [
        "input_text = \"Apple is planning to open a new store in Tokyo next month.\"\n",
        "\n",
        "input_sequence = tokenizer.texts_to_sequences([input_text])\n",
        "input_sequence_padded = pad_sequences(input_sequence, maxlen = maxlen, padding='post')\n",
        "\n",
        "idx2tag = {idx: tag for tag, idx in word2idx_tag.items()}"
      ],
      "metadata": {
        "id": "ct0K3Ca4BJnu"
      },
      "execution_count": null,
      "outputs": []
    },
    {
      "cell_type": "code",
      "source": [
        "\n",
        "predictions = model.predict(input_sequence_padded)\n",
        "decoded_predictions = [idx2tag[np.argmax(pred)] for pred in predictions[0]]\n",
        "\n",
        "print(decoded_predictions)"
      ],
      "metadata": {
        "colab": {
          "base_uri": "https://localhost:8080/"
        },
        "id": "XIpmKV_7CHNJ",
        "outputId": "f5dd7d6e-e131-4714-a689-bb8d6e92c8e5"
      },
      "execution_count": null,
      "outputs": [
        {
          "output_type": "stream",
          "name": "stdout",
          "text": [
            "1/1 [==============================] - 0s 364ms/step\n",
            "['O', 'O', 'O', 'O', 'O', 'O', 'O', 'O', 'O', 'O', 'O', 'O', 'O', 'O', 'O', 'O', 'O', 'O', 'O', 'O', 'O', 'O', 'O', 'O', 'O', 'O', 'O', 'O', 'O', 'O', 'O', 'O', 'O', 'O', 'O', 'O', 'O', 'O', 'O', 'O', 'O', 'O', 'O', 'O', 'O', 'O', 'O', 'O', 'O', 'O', 'O', 'O', 'O', 'O', 'O', 'O', 'O', 'O', 'O', 'O', 'O', 'O', 'O', 'O', 'O', 'O', 'O', 'O', 'O', 'O', 'O', 'O', 'O', 'O', 'O', 'O', 'O', 'O', 'O', 'O', 'O', 'O', 'O', 'O', 'O', 'O', 'O', 'O', 'O', 'O', 'O', 'O', 'O', 'O', 'O', 'O', 'O', 'O', 'O', 'O']\n"
          ]
        }
      ]
    },
    {
      "cell_type": "code",
      "source": [
        "# ---------------------------------------------------------\n",
        "# Spacy et NLTK\n",
        "# --------------------------------------------------------"
      ],
      "metadata": {
        "id": "FcRtS4RjCr1H"
      },
      "execution_count": null,
      "outputs": []
    },
    {
      "cell_type": "code",
      "source": [
        "import spacy\n",
        "\n",
        "nlp = spacy.load(\"en_core_web_sm\")\n",
        "\n",
        "input_text = \"Apple is planning to open a new store in Tokyo next month.\"\n",
        "\n",
        "doc = nlp(input_text)\n",
        "ner_tags_spacy = [(ent.text, ent.label_) for ent in doc.ents]\n",
        "\n",
        "print(ner_tags_spacy)"
      ],
      "metadata": {
        "id": "AjWaJlqWCsdv"
      },
      "execution_count": null,
      "outputs": []
    },
    {
      "cell_type": "code",
      "source": [
        "import nltk\n",
        "from nltk.tokenize import word_tokenize\n",
        "from nltk.tag import pos_tag, ne_chunk\n",
        "\n",
        "nltk.download('punkt')\n",
        "nltk.download('averaged_perceptron_tagger')\n",
        "nltk.download('maxent_ne_chunker')\n",
        "nltk.download('words')\n",
        "\n",
        "input_text = \"Apple is planning to open a new store in Tokyo next month.\"\n",
        "\n",
        "words = word_tokenize(input_text)\n",
        "\n",
        "tagged = pos_tag(words)\n",
        "\n",
        "entities = ne_chunk(tagged)\n",
        "\n",
        "ner_tags_nltk = [(chunk.text, chunk.label()) for chunk in entities if hasattr(chunk, 'label')]\n",
        "\n",
        "print(ner_tags_nltk)\n"
      ],
      "metadata": {
        "id": "duor4KKdDM0c"
      },
      "execution_count": null,
      "outputs": []
    }
  ]
}